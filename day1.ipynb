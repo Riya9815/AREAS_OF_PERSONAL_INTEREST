{
 "cells": [
  {
   "cell_type": "markdown",
   "metadata": {},
   "source": [
    "## Python Advantages\n",
    "\n",
    "1) It is a high-level programming language. High level programming languages do not interact with the registers or memory addresses of the computer , they have variables , arrays , objects and many other functionalities.Low Level programming languages usually is more machine friendlu and less user friendly.\n",
    "\n",
    "2) Dynamically typed Language-No need to mention data type based on value assigned, it takes data type\n",
    "\n",
    "3) Object Oriented Language- Uses the concept of objects and classes\n",
    "\n",
    "4) Portable accross Operating Systems\n",
    "\n",
    "5) Easy to learn-English Like Syntax\n",
    "\n",
    "6) User-Friendly Language\n",
    "\n",
    "7) Vast libraries which are used in Data Science today\n",
    "\n",
    "8) Productive language- As the language is simple, focus can be applied on problem solving.\n",
    "\n",
    "9) Python is an interpreted language which means that Python directly executes the code line by line.In case of any error, it stops further execution and reports back the error which has occurred.- Debugging is easier.\n",
    "\n",
    "\n",
    "\n",
    "\n"
   ]
  },
  {
   "cell_type": "markdown",
   "metadata": {},
   "source": [
    "## Python Literals "
   ]
  },
  {
   "cell_type": "markdown",
   "metadata": {},
   "source": [
    "Literal is a raw data given in a variable or constant. In Python, there are various types of literals they are as follows:\n",
    "    \n",
    "Numeric Literals-Integer, Float, and Complex.\n",
    "\n",
    "String literals\n",
    "\n",
    "Boolean literals-True or False.\n",
    "\n",
    "Special literals-None\n",
    "\n",
    "There are four different literal collections List literals, Tuple literals, Dict literals, and Set literals.\n",
    "\n"
   ]
  },
  {
   "cell_type": "markdown",
   "metadata": {},
   "source": [
    "## Python Program for factorial of a number"
   ]
  },
  {
   "cell_type": "code",
   "execution_count": 3,
   "metadata": {},
   "outputs": [
    {
     "name": "stdout",
     "output_type": "stream",
     "text": [
      "Enter a number5\n",
      "Factorial of 5 is 120\n"
     ]
    }
   ],
   "source": [
    "def factorial(n):\n",
    " \n",
    "    return 1 if (n==1 or n==0) else n * factorial(n - 1);\n",
    "\n",
    "\n",
    "\n",
    "a=int(input(\"Enter a number\"))\n",
    "factorial(a)\n",
    "print(\"Factorial of\",a,\"is\",factorial(a))\n",
    "\n",
    "\n",
    "\n",
    "\n"
   ]
  },
  {
   "cell_type": "markdown",
   "metadata": {},
   "source": [
    "## Python Program for Armstrong number\n",
    "\n",
    "### 153 is an armstrong number of order  3\n",
    "### 8891 is an armstrong number of order 4"
   ]
  },
  {
   "cell_type": "code",
   "execution_count": 11,
   "metadata": {},
   "outputs": [
    {
     "name": "stdout",
     "output_type": "stream",
     "text": [
      "153 is an armstrong_number\n",
      "8891 is an armstrong_number\n"
     ]
    }
   ],
   "source": [
    "\n",
    "def armstrong_number(number):\n",
    "    sum=0\n",
    "    n=number\n",
    "    # order is the number of digits \n",
    "    order=len(str(n))\n",
    "    copy_n=n\n",
    "\n",
    "    while(n>0):\n",
    "        digit=n%10\n",
    "        sum+=digit **order\n",
    "        n=n//10\n",
    "    if(sum==copy_n):\n",
    "        print(f\"{copy_n} is an armstrong_number\")\n",
    "    else:\n",
    "        print(f\"{copy_n} is an armstrong_number\")\n",
    "        \n",
    "armstrong_number(153)\n",
    "\n",
    "armstrong_number(8891)\n",
    "    "
   ]
  },
  {
   "cell_type": "markdown",
   "metadata": {},
   "source": [
    "## Python program to check whether a number is Prime or not"
   ]
  },
  {
   "cell_type": "code",
   "execution_count": 4,
   "metadata": {},
   "outputs": [
    {
     "name": "stdout",
     "output_type": "stream",
     "text": [
      "Enter a number7\n",
      "Number is prime\n"
     ]
    }
   ],
   "source": [
    "def prime_number_or_not(num):\n",
    "    n=num\n",
    "    if(n<2):\n",
    "        print(\"Not a prime number\")\n",
    "    else:\n",
    "        for i in range(2,n):\n",
    "            if(n%i==0):\n",
    "                print(\"Not a prime number\")\n",
    "                break\n",
    "        else:\n",
    "            print(\"Number is prime\")\n",
    "n=int(input(\"Enter a number\"))\n",
    "prime_number_or_not(n)"
   ]
  },
  {
   "cell_type": "markdown",
   "metadata": {},
   "source": [
    "## Python program to print all Prime numbers in an Interval\n"
   ]
  },
  {
   "cell_type": "code",
   "execution_count": 10,
   "metadata": {},
   "outputs": [
    {
     "name": "stdout",
     "output_type": "stream",
     "text": [
      "Enter a number2\n",
      "Enter a number9\n",
      "2\n",
      "3\n",
      "5\n",
      "7\n"
     ]
    }
   ],
   "source": [
    "def prime_numbers(n1,n2):\n",
    "    n1=n1\n",
    "    n2=n2\n",
    "    if (n1<n2):\n",
    "        if(n2<2):\n",
    "            print(\"Not a prime number\")\n",
    "        else:\n",
    "            for i in range(n1,n2):\n",
    "                for j in range(2,i):\n",
    "                    if(i%j==0):\n",
    "                        break\n",
    "                else:\n",
    "                    print(i)\n",
    "n1,n2=int(input(\"Enter a number\")),int(input(\"Enter a number\"))\n",
    "prime_numbers(n1,n2)"
   ]
  },
  {
   "cell_type": "markdown",
   "metadata": {},
   "source": [
    "## Python program to check whether a number is Prime or not\n",
    "###  n=6           0 1 1 2 3 5 8 \n",
    "###  6 th term is 8"
   ]
  },
  {
   "cell_type": "code",
   "execution_count": 1,
   "metadata": {},
   "outputs": [
    {
     "name": "stdout",
     "output_type": "stream",
     "text": [
      "8\n"
     ]
    }
   ],
   "source": [
    "# Recursive function\n",
    "def fibo(n):\n",
    "    if n==0:\n",
    "        return 0\n",
    "    elif(n==1):\n",
    "        return 1 \n",
    "    else:\n",
    "        return fibo(n-1)+fibo(n-2)\n",
    "n=6\n",
    "print(fibo(n))"
   ]
  },
  {
   "cell_type": "code",
   "execution_count": 2,
   "metadata": {},
   "outputs": [
    {
     "name": "stdout",
     "output_type": "stream",
     "text": [
      "8\n"
     ]
    }
   ],
   "source": [
    "\n",
    "# Iterative function\n",
    "def fibo_iter(n):\n",
    "    prev_n=0\n",
    "    curr_n=1 \n",
    "    for i in range(1,n):\n",
    "        prev_of_prev=prev_n\n",
    "        prev_n=curr_n\n",
    "        curr_n=prev_n+prev_of_prev\n",
    "    return curr_n\n",
    "n=fibo_iter(6)\n",
    "print(n)\n"
   ]
  },
  {
   "cell_type": "markdown",
   "metadata": {},
   "source": [
    "## Lambda Function -This function can have any number of arguments but only one expression, which is evaluated and returned."
   ]
  },
  {
   "cell_type": "code",
   "execution_count": 12,
   "metadata": {},
   "outputs": [
    {
     "name": "stdout",
     "output_type": "stream",
     "text": [
      "343\n"
     ]
    }
   ],
   "source": [
    "\n",
    "g = lambda x: x*x*x \n",
    "print(g(7)) \n",
    "    "
   ]
  },
  {
   "cell_type": "code",
   "execution_count": 31,
   "metadata": {},
   "outputs": [
    {
     "name": "stdout",
     "output_type": "stream",
     "text": [
      "<function <lambda> at 0x000001CBAA0C81F0>\n"
     ]
    },
    {
     "data": {
      "text/plain": [
       "'hello world'"
      ]
     },
     "execution_count": 31,
     "metadata": {},
     "output_type": "execute_result"
    }
   ],
   "source": [
    "s=lambda y:\"hello world\"\n",
    "s(print(y))"
   ]
  },
  {
   "cell_type": "code",
   "execution_count": 29,
   "metadata": {},
   "outputs": [
    {
     "name": "stdout",
     "output_type": "stream",
     "text": [
      "hello world\n"
     ]
    }
   ],
   "source": [
    "x=\"hello world\"\n",
    "y=lambda:print(x)\n",
    "y()"
   ]
  },
  {
   "cell_type": "code",
   "execution_count": null,
   "metadata": {},
   "outputs": [],
   "source": []
  }
 ],
 "metadata": {
  "kernelspec": {
   "display_name": "Python 3",
   "language": "python",
   "name": "python3"
  },
  "language_info": {
   "codemirror_mode": {
    "name": "ipython",
    "version": 3
   },
   "file_extension": ".py",
   "mimetype": "text/x-python",
   "name": "python",
   "nbconvert_exporter": "python",
   "pygments_lexer": "ipython3",
   "version": "3.8.5"
  }
 },
 "nbformat": 4,
 "nbformat_minor": 4
}
